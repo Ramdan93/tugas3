{
 "cells": [
  {
   "cell_type": "markdown",
   "id": "f9ca1c57",
   "metadata": {},
   "source": [
    "# &#9989; Membuat Login, Logout, & Register"
   ]
  },
  {
   "cell_type": "markdown",
   "id": "4c758c2f",
   "metadata": {},
   "source": [
    "Mulai buat controller khusus:  \n",
    "\n",
    "<code>php artisan make:controller SessionController</code>"
   ]
  },
  {
   "cell_type": "markdown",
   "id": "a2f9dbba",
   "metadata": {},
   "source": [
    "## &#128304; Buat Fungsi Login"
   ]
  },
  {
   "cell_type": "markdown",
   "id": "7ef72675",
   "metadata": {},
   "source": [
    "Edit di Session Controller"
   ]
  },
  {
   "cell_type": "code",
   "execution_count": null,
   "id": "87b00beb",
   "metadata": {},
   "outputs": [],
   "source": [
    "...\n",
    "function index()\n",
    "{\n",
    "    return view('sesi/index');\n",
    "}\n",
    "function login(Request $request)\n",
    "{\n",
    "    Session::flash('email', $request->input('email'));\n",
    "\n",
    "    $request->validate([\n",
    "        'email' => 'required',\n",
    "        'password' => 'required'\n",
    "    ], [\n",
    "        'email.required' => 'Email wajib diisi',\n",
    "        'password.required' => 'Password wajib diisi'\n",
    "    ]);\n",
    "\n",
    "    $infologin = [\n",
    "        'email' => $request->email,\n",
    "        'password' => $request->password\n",
    "    ];\n",
    "    if (Auth::attempt($infologin)) {\n",
    "        return redirect('siswa')->with('success', 'Berhasil login');\n",
    "    } else {\n",
    "        return redirect('sesi')->withErrors('Username dan password yang dimasukkan tidak sesuai');\n",
    "    }\n",
    "}\n",
    "..."
   ]
  },
  {
   "cell_type": "markdown",
   "id": "ba501809",
   "metadata": {},
   "source": [
    "Siapkan blade **sesi/index**"
   ]
  },
  {
   "cell_type": "code",
   "execution_count": null,
   "id": "4b0aed65",
   "metadata": {},
   "outputs": [],
   "source": [
    "@extends('layout/aplikasi')\n",
    "\n",
    "@section('konten')\n",
    "    <div class=\"w-50 center border rounded px-3 py-3 mx-auto\">\n",
    "        <h1>LOGIN</h1>\n",
    "        <form action=\"/sesi/login\" method=\"post\">\n",
    "            @csrf\n",
    "            <div class=\"mb-3\">\n",
    "                <label for=\"email\" class=\"form-label\">Email</label>\n",
    "                <input type=\"email\" name=\"email\" value=\"{{ Session::get('email') }}\"  class=\"form-control\">\n",
    "            </div>\n",
    "            <div class=\"mb-3\">\n",
    "                <label for=\"password\" class=\"form-label\">Password</label>\n",
    "                <input type=\"password\" name=\"password\" class=\"form-control\">\n",
    "            </div>\n",
    "            <div class=\"mb-3 d-grid\">\n",
    "                <button type=\"submit\" name=\"submit\" class=\"btn btn-primary\">LOGIN</button>\n",
    "            </div>\n",
    "        </form>\n",
    "    </div>\n",
    "    \n",
    "@endsection"
   ]
  },
  {
   "cell_type": "markdown",
   "id": "19c651cb",
   "metadata": {},
   "source": [
    "## &#128304; Buat Fungsi Logout"
   ]
  },
  {
   "cell_type": "markdown",
   "id": "4f0a49c9",
   "metadata": {},
   "source": [
    "Edit fungsi di SessionController"
   ]
  },
  {
   "cell_type": "code",
   "execution_count": null,
   "id": "a75144cb",
   "metadata": {},
   "outputs": [],
   "source": [
    "...\n",
    "function logout()\n",
    "{\n",
    "    Auth::logout();\n",
    "    return redirect('sesi')->with('success', 'Berhasil logout');\n",
    "}\n",
    "..."
   ]
  },
  {
   "cell_type": "markdown",
   "id": "66c739ac",
   "metadata": {},
   "source": [
    "## &#128304; Buat Fungsi Register"
   ]
  },
  {
   "cell_type": "markdown",
   "id": "68d36ea0",
   "metadata": {},
   "source": [
    "Edit fungsi di SessionController"
   ]
  },
  {
   "cell_type": "code",
   "execution_count": null,
   "id": "49d79418",
   "metadata": {},
   "outputs": [],
   "source": [
    "function register()\n",
    "{\n",
    "    return view('sesi/register');\n",
    "}\n",
    "function create(Request $request)\n",
    "{\n",
    "    Session::flash('name', $request->input('name'));\n",
    "    Session::flash('email', $request->input('email'));\n",
    "\n",
    "    $request->validate([\n",
    "        'name' => 'required',\n",
    "        'email' => 'required|email|unique:users',\n",
    "        'password' => 'required|min:8'\n",
    "    ], [\n",
    "        'nama.required' => 'Nama wajib diisi',\n",
    "        'email.required' => 'Email wajib diisi',\n",
    "        'email.email' => 'Email yang dimasukkan tidak valid',\n",
    "        'email.unique' => 'Email sudah digunakan, silakan masukkan email yang lain',\n",
    "        'password.required' => 'Password wajib diisi',\n",
    "        'password.min' => 'Minumum password 8 karakter'\n",
    "    ]);\n",
    "\n",
    "    $data = [\n",
    "        'name' => $request->name,\n",
    "        'email' => $request->email,\n",
    "        'password' => Hash::make($request->password)\n",
    "    ];\n",
    "    User::create($data);\n",
    "\n",
    "    $infologin = [\n",
    "        'email' => $request->email,\n",
    "        'password' => $request->password\n",
    "    ];\n",
    "\n",
    "    if (Auth::attempt($infologin)) {\n",
    "        return redirect('siswa')->with('success', 'Berhasil login');\n",
    "    } else {\n",
    "        return redirect('sesi')->withErrors('Username dan password yang dimasukkan tidak sesuai');\n",
    "    }\n",
    "}"
   ]
  },
  {
   "cell_type": "markdown",
   "id": "4bee4e08",
   "metadata": {},
   "source": [
    "Siapkan blade untuk register"
   ]
  },
  {
   "cell_type": "code",
   "execution_count": null,
   "id": "7163e654",
   "metadata": {},
   "outputs": [],
   "source": [
    "@extends('layout/aplikasi')\n",
    "\n",
    "@section('konten')\n",
    "    <div class=\"w-50 center border rounded px-3 py-3 mx-auto\">\n",
    "        <h1>Register</h1>\n",
    "        <form action=\"/sesi/register\" method=\"post\">\n",
    "            @csrf\n",
    "            <div class=\"mb-3\">\n",
    "                <label for=\"email\" class=\"form-label\">Name</label>\n",
    "                <input type=\"text\" name=\"name\" value=\"{{ Session::get('name') }}\"  class=\"form-control\">\n",
    "            </div>\n",
    "            <div class=\"mb-3\">\n",
    "                <label for=\"email\" class=\"form-label\">Email</label>\n",
    "                <input type=\"email\" name=\"email\" value=\"{{ Session::get('email') }}\"  class=\"form-control\">\n",
    "            </div>\n",
    "            <div class=\"mb-3\">\n",
    "                <label for=\"password\" class=\"form-label\">Password</label>\n",
    "                <input type=\"password\" name=\"password\" class=\"form-control\">\n",
    "            </div>\n",
    "            <div class=\"mb-3 d-grid\">\n",
    "                <button type=\"submit\" name=\"submit\" class=\"btn btn-primary\">LOGIN</button>\n",
    "            </div>\n",
    "        </form>\n",
    "    </div>\n",
    "    \n",
    "@endsection"
   ]
  },
  {
   "cell_type": "markdown",
   "id": "3d7a44fa",
   "metadata": {},
   "source": [
    "## &#128304; Edit Route"
   ]
  },
  {
   "cell_type": "markdown",
   "id": "545902ce",
   "metadata": {},
   "source": [
    "Edit web.php"
   ]
  },
  {
   "cell_type": "code",
   "execution_count": null,
   "id": "92095d57",
   "metadata": {},
   "outputs": [],
   "source": [
    "...\n",
    "use App\\Http\\Controllers\\SessionController;\n",
    "\n",
    "Route::get('sesi', [SessionController::class, 'index']);\n",
    "Route::post('sesi/login', [SessionController::class, 'login']);\n",
    "Route::get('sesi/logout', [SessionController::class, 'logout']);\n",
    "Route::get('sesi/register', [SessionController::class, 'register']);\n",
    "Route::post('sesi/register', [SessionController::class, 'create']);\n",
    "..."
   ]
  }
 ],
 "metadata": {
  "kernelspec": {
   "display_name": "Python 3 (ipykernel)",
   "language": "python",
   "name": "python3"
  },
  "language_info": {
   "codemirror_mode": {
    "name": "ipython",
    "version": 3
   },
   "file_extension": ".py",
   "mimetype": "text/x-python",
   "name": "python",
   "nbconvert_exporter": "python",
   "pygments_lexer": "ipython3",
   "version": "3.10.4"
  }
 },
 "nbformat": 4,
 "nbformat_minor": 5
}
